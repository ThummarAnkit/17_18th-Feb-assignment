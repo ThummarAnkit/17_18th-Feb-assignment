{
 "cells": [
  {
   "cell_type": "markdown",
   "id": "0a6f1833",
   "metadata": {},
   "source": [
    "# Q1. What is an API? Give an example, where an API is used in real life."
   ]
  },
  {
   "cell_type": "markdown",
   "id": "7c967739",
   "metadata": {},
   "source": [
    "__Ans. :__<br>\n",
    "\n",
    "__APIs__ stands for 'application programming interface,' and the dictionary describes it as \"a set of functions and procedures allowing the creation of applications that access the features or data of an operating system, application, or other services.\" In more basic terms, API is a software intermediary that allows two different applications to talk to each other.\n",
    "\n",
    "For example,\n",
    "\n",
    "* Analytics. Google Analytics is a part of the Google Cloud API Platform and offers multiple API options that businesses can use for analytics. The most common APIs used are Core Reporting API and Management API.\n",
    "<br>\n",
    "\n",
    "* Project and Team Management. Tools like Jira, Basecamp, and Microsoft Teams provide communication between coworkers and data sharing functionality — and that all happens through API.\n",
    "<br>\n",
    "\n",
    "* Online Payment Systems. Where digital money transfers occur, there is an API supporting the process. Many organizations choose to utilize APIs from a firm such as PayPal to provide secure, safe money transfers to their customers."
   ]
  },
  {
   "cell_type": "markdown",
   "id": "11917396",
   "metadata": {},
   "source": [
    "# Q2. Give advantages and disadvantages of using API."
   ]
  },
  {
   "cell_type": "markdown",
   "id": "f3fe303f",
   "metadata": {},
   "source": [
    "__Ans. :__<br>\n",
    "\n",
    "### API Advantages :\n",
    "\n",
    "__Efficiency:__ When you have content that is automatically published and made available on different channels simultaneously, APIs allow for more efficient data distribution. <br>\n",
    "\n",
    "__Adaptability:__ One of the greatest benefits of APIs is the ability it has to adapt to changes through data migration and flexibility of services.\n",
    "\n",
    "### API Disadvantages :\n",
    "\n",
    "As a single point of entry, an API is a gateway and can become a hacker's primary target. Once the API is compromised, all other applications and systems become vulnerable."
   ]
  },
  {
   "cell_type": "markdown",
   "id": "525e131d",
   "metadata": {},
   "source": [
    "# Q3. What is a Web API? Differentiate between API and Web API."
   ]
  },
  {
   "cell_type": "markdown",
   "id": "242650db",
   "metadata": {},
   "source": [
    "__Ans. :__<br>\n",
    "\n",
    "A Web API stands for Application Programming Interface. It is a software application that allows two different applications or machines to interact with each other without any user interference. The API contains a complete set of rules and specifications used when interacting with any web application.\n",
    "\n",
    "Both APIs and web services are technologies that enable the transfer of data between separate software applications. API is an interface that exposes an application's data to outside software, whereas web applications are one type of API with stricter requirements."
   ]
  },
  {
   "cell_type": "markdown",
   "id": "29bceb6a",
   "metadata": {},
   "source": [
    "# Q4. Explain REST and SOAP Architecture. Mention shortcomings of SOAP."
   ]
  },
  {
   "cell_type": "markdown",
   "id": "90d8cf72",
   "metadata": {},
   "source": [
    "__Ans. :__<br>\n",
    "\n",
    "### REST :\n",
    "\n",
    "REST is __a software architectural style that defines the set of rules to be used for creating web services.__ Web services which follow the REST architectural style are known as RESTful web services. It allows requesting systems to access and manipulate web resources by using a uniform and predefined set of rules.\n",
    "\n",
    "### SOAP :\n",
    "\n",
    "SOAP is __a protocol for the exchange of information in a distributed environment.__ SOAP messages are encoded as XML documents and can be exchanged using various underlying protocols.\n",
    "\n",
    "### shortcomings of SOAP:\n",
    "\n",
    "__As SOAP can only transfer messages as XML files__, your SOAP API will be less performant, as XML is a verbose format compared to JSON. API calls made to your server will need more bandwidth and it will take more time to process the request and transfer the response back to the client."
   ]
  },
  {
   "cell_type": "markdown",
   "id": "34800d2e",
   "metadata": {},
   "source": [
    "# Q5. Differentiate between REST and SOAP."
   ]
  },
  {
   "cell_type": "markdown",
   "id": "7ba7db67",
   "metadata": {},
   "source": [
    "__Ans. :__<br>\n",
    "\n",
    "__REST is a set of guidelines that offers flexible implementation, whereas SOAP is a protocol with specific requirements like XML messaging.__ REST APIs are lightweight, making them ideal for newer contexts like the Internet of Things (IoT), mobile application development, and serverless computing."
   ]
  },
  {
   "cell_type": "code",
   "execution_count": null,
   "id": "8d39ec2b",
   "metadata": {},
   "outputs": [],
   "source": []
  }
 ],
 "metadata": {
  "kernelspec": {
   "display_name": "Python 3 (ipykernel)",
   "language": "python",
   "name": "python3"
  },
  "language_info": {
   "codemirror_mode": {
    "name": "ipython",
    "version": 3
   },
   "file_extension": ".py",
   "mimetype": "text/x-python",
   "name": "python",
   "nbconvert_exporter": "python",
   "pygments_lexer": "ipython3",
   "version": "3.9.7"
  }
 },
 "nbformat": 4,
 "nbformat_minor": 5
}
